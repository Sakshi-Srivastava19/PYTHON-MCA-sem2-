{
 "cells": [
  {
   "cell_type": "markdown",
   "id": "26b9aeff-bdbc-457f-b6c0-51846d8e9f84",
   "metadata": {},
   "source": [
    "# Single File Programming Question\n",
    "**Problem Statement**<br>\n",
    "Lisa, a data analyst, is working on a text-processing tool that rearranges words for better readability in reports. She needs a program that takes a sentence as input, reverses the order of words, and displays the modified sentence while ensuring extra spaces are removed. \n",
    "<br>Implement a solution that reads from standard input and prints the processed output using standard output.\n",
    "<br><br>\n",
    "Input format :\n",
    "* The input consists of a string, representing the sentence entered by the user.\n",
    "<br>\n",
    "Output format :<br>\n",
    "* The output prints a string, representing the words of the input sentence in reverse order, with extra spaces removed [only 1 space is allowed in the output].\n",
    "<br>\n",
    "Refer to the sample output for formatting specifications.<br><br>\n",
    "Code constraints :<br>\n",
    "* The given test cases fall under the following specifications:\n",
    "* The input string contains 1 to 100 words.<br>\n",
    "Sample test cases :<br>\n",
    "* Input 1 :\n",
    "Data analysis is important\n",
    "* Output 1 :\n",
    "important is analysis Data\n",
    "* Input 2 :\n",
    "Python is     a       powerful language!\n",
    "* Output 2 :\n",
    "language! powerful a is Python\n",
    "."
   ]
  },
  {
   "cell_type": "code",
   "execution_count": 16,
   "id": "07f93b38-78fb-4e25-af2b-2b432dd2629c",
   "metadata": {},
   "outputs": [
    {
     "name": "stdin",
     "output_type": "stream",
     "text": [
      " hi sakshi srivastava here\n"
     ]
    },
    {
     "name": "stdout",
     "output_type": "stream",
     "text": [
      "here srivastava sakshi hi\n"
     ]
    }
   ],
   "source": [
    "# You are using Python\n",
    "import os\n",
    "s=input().strip()\n",
    "w=s.split()\n",
    "rev=w[::-1]\n",
    "a=' '.join(rev)\n",
    "print(a)"
   ]
  },
  {
   "cell_type": "markdown",
   "id": "8d9922db-9a96-43c8-9a48-f15659a728dc",
   "metadata": {},
   "source": [
    "# Single File Programming Question\n",
    "**Problem Statement**<br>\n",
    "Jackson, a software developer, is building a text transformation tool to enhance readability in user-generated content. He needs a program that takes a string as input, converts uppercase letters to lowercase and vice versa, and prints the transformed string while preserving the original character order.\n",
    "<br>Implement a solution using standard input and standard output.\n",
    "<br><br>\n",
    "* Input format :\n",
    "The input consists of a string, representing the text entered by the user.\n",
    "* Output format :\n",
    "The output prints by a string, where all uppercase letters are converted to lowercase and all lowercase letters are converted to uppercase.\n",
    "<br>Refer to the sample output for formatting specifications.\n",
    "<br><br>\n",
    "Code constraints :\n",
    "* The given test cases fall under the following specifications:\n",
    "* The input string contains 1 to 100 characters.\n",
    "* The string consists of printable ASCII characters (letters, digits, spaces, and punctuation).\n",
    "* Non-alphabetic characters remain unchanged.\n",
    "<br><br>\n",
    "** Sample test cases :\n",
    "* Input 1 :\n",
    "Python123 is FUN!!\n",
    "* Output 1 :\n",
    "pYTHON123 IS fun!!\n",
    "* Input 2 :\n",
    "Code 123 Rocks!\n",
    "* Output 2 :\n",
    "cODE 123 rOCKS!\n",
    "."
   ]
  },
  {
   "cell_type": "code",
   "execution_count": 24,
   "id": "28cc2348-10c3-4136-bc89-090359bf1dc7",
   "metadata": {},
   "outputs": [
    {
     "name": "stdin",
     "output_type": "stream",
     "text": [
      " Python123 is FUN!!\n"
     ]
    },
    {
     "name": "stdout",
     "output_type": "stream",
     "text": [
      "pYTHON123 IS fun!!\n"
     ]
    }
   ],
   "source": [
    "a=input().strip()\n",
    "transform=a.swapcase()\n",
    "print(transform)"
   ]
  },
  {
   "cell_type": "markdown",
   "id": "39f8956d-3adf-41c7-a427-39de61c4798a",
   "metadata": {},
   "source": [
    "# Single File Programming Question\n",
    "**Problem Statement**<br>\n",
    "Oliver, a student learning number theory, wants to analyze the digits of a given number to find the highest and lowest ones. He needs a program that reads an integer, identifies the highest and lowest digits in it, and prints both values. <br>\n",
    "\n",
    "Implement a solution using standard input and standard output.\n",
    "<br><br>\n",
    "Input format :<br>\n",
    "The input consists of an integer, representing the number entered by the user.\n",
    "<br><br>\n",
    "Output format :<br>\n",
    "* The first line of output prints an integer, representing the largest digit in the number.\n",
    "\n",
    "* The second line prints an integer, representing the smallest digit in the number.\n",
    "<br><br>\n",
    "Refer to the sample output for formatting specifications.\n",
    "<br><br>\n",
    "Code constraints :<br>\n",
    "The given test cases fall under the following specifications:\n",
    "<code>\n",
    "103 ≤ N ≤ 1010</code>\n",
    "<br>\n",
    "Sample test cases :<br>\n",
    "* Input 1 :<br>\n",
    "52941<br>\n",
    "*Output 1 :<br>\n",
    "9<br>\n",
    "1<br>\n",
    "* Input 2 :<br>\n",
    "786532<br>\n",
    "* Output 2 :<br>\n",
    "8<br>\n",
    "2<br>"
   ]
  },
  {
   "cell_type": "code",
   "execution_count": 5,
   "id": "355ccd8a-71b0-4368-b4a4-b5bdb9dccacf",
   "metadata": {},
   "outputs": [
    {
     "name": "stdin",
     "output_type": "stream",
     "text": [
      " 5689123\n"
     ]
    },
    {
     "name": "stdout",
     "output_type": "stream",
     "text": [
      "9\n",
      "1\n"
     ]
    }
   ],
   "source": [
    "N=input().strip()\n",
    "d=[int(i) for i in N]\n",
    "max_d=max(d)\n",
    "min_d=min(d)\n",
    "print(max_d)\n",
    "print(min_d)"
   ]
  },
  {
   "cell_type": "code",
   "execution_count": null,
   "id": "2a6a660c-bcc2-4d23-b249-3202e17245bf",
   "metadata": {},
   "outputs": [],
   "source": []
  }
 ],
 "metadata": {
  "kernelspec": {
   "display_name": "Python 3 (ipykernel)",
   "language": "python",
   "name": "python3"
  },
  "language_info": {
   "codemirror_mode": {
    "name": "ipython",
    "version": 3
   },
   "file_extension": ".py",
   "mimetype": "text/x-python",
   "name": "python",
   "nbconvert_exporter": "python",
   "pygments_lexer": "ipython3",
   "version": "3.12.7"
  }
 },
 "nbformat": 4,
 "nbformat_minor": 5
}
