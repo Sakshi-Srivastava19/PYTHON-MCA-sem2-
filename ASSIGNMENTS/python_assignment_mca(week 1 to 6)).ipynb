{
 "cells": [
  {
   "cell_type": "markdown",
   "id": "5bc4956f-9a9e-4afb-ad8a-6aec37d6b77e",
   "metadata": {},
   "source": [
    "# Single File Programming Question\n",
    "**Problem Statement<hr><br>\n",
    "Given a list of positive and negative numbers, arrange them such that all negative integers appear before all the positive integers in the array. The order of appearance should be maintained.\n",
    "<br>\n",
    "Input:\n",
    "[12, 11, -13, -5, 6, -7, 5, -3, -6]<br><br>\n",
    "Output:<br>\n",
    "List = [-13, -5, -7, -3, -6, 12, 11, 6, 5]<br><br>\n",
    "Explanation:<br>\n",
    "The output is the arranged list where all the negative integers appear before the positive integers while maintaining the original order of appearance.\n",
    "<br><br>\n",
    "Input format :\n",
    "The input consists of a single line containing a list of integers enclosed in square brackets separated by commas.\n",
    "<br><br>\n",
    "Output format :\n",
    "The output displays \"List = \" followed by an arranged list of integers as required, separated by commas and enclosed in square brackets.\n",
    "<br><br>\n",
    "Code constraints :\n",
    "In this scenario, the given test cases will fall under the following constraints:\n",
    "<br>\n",
    "-1000 ≤ array elements ≤ 1000\n",
    "<br>\n",
    "Sample test cases :<br>\n",
    "Input 1 :<br>\n",
    "[12, 11, -13, -5, 6, -7, 5, -3, -6]<br>\n",
    "Output 1 :<br>\n",
    "List =  [-13, -5, -7, -3, -6, 12, 11, 6, 5]<br>\n",
    "Input 2 :<br>\n",
    "[1, 4, -7, 5, 0, -6]<br>\n",
    "Output 2 :<br>\n",
    "List =  [-7, -6, 1, 4, 5, 0]<br>\n",
    "Extra spaces and new line characters in the program output will result in the failure of the test case.**"
   ]
  },
  {
   "cell_type": "code",
   "execution_count": 11,
   "id": "57889203-22a6-413a-83b6-8f620f834038",
   "metadata": {},
   "outputs": [
    {
     "name": "stdout",
     "output_type": "stream",
     "text": [
      "input list in this format [1, 4, 5, 0, -6],[55, 66, 29, 9, 8]\n"
     ]
    },
    {
     "name": "stdin",
     "output_type": "stream",
     "text": [
      " [55, 66, 29, 9, 8]\n"
     ]
    },
    {
     "name": "stdout",
     "output_type": "stream",
     "text": [
      "List = [55, 66, 29, 9, 8]\n"
     ]
    }
   ],
   "source": [
    "print(\"input list in this format [1, 4, 5, 0, -6],[55, 66, 29, 9, 8]\")\n",
    "n=input().strip()\n",
    "list1=list(map(int,n[1:-1].split(',')))\n",
    "List_n=[]\n",
    "List_p=[]\n",
    "for i in list1:\n",
    "    if i<0:\n",
    "        List_n.append(i)\n",
    "    else:\n",
    "        List_p.append(i) \n",
    "List11=List_n+List_p\n",
    "print(f\"List = {List11}\")"
   ]
  },
  {
   "cell_type": "markdown",
   "id": "65702822-7c33-422b-91f9-116bdce433c0",
   "metadata": {},
   "source": [
    "*using list comprehension*"
   ]
  },
  {
   "cell_type": "code",
   "execution_count": 15,
   "id": "741ec04e-d024-4190-87ee-735830cb99f8",
   "metadata": {},
   "outputs": [
    {
     "name": "stdin",
     "output_type": "stream",
     "text": [
      " [55, 66, 29, 9, -8,0,-1]\n"
     ]
    },
    {
     "name": "stdout",
     "output_type": "stream",
     "text": [
      "List = [-8, -1, 55, 66, 29, 9, 0]\n"
     ]
    }
   ],
   "source": [
    "n = input().strip()\n",
    "arr = list(map(int, n[1:-1].split(',')))\n",
    "List_n = [i for i in arr if i < 0]\n",
    "List_p = [i for i in arr if i >= 0]\n",
    "result_list = List_n + List_p\n",
    "print(f\"List = {result_list}\")\n"
   ]
  },
  {
   "cell_type": "markdown",
   "id": "12c1ee75-677e-470f-8f5f-0ab1479b4727",
   "metadata": {},
   "source": [
    "# Problem Statement\n",
    "\n",
    "**Professor Adams needs to analyze student participation in three recent academic workshops. She has three sets of student IDs: the first set contains students who registered for the workshops, the second set contains students who actually attended, and the third set contains students who dropped out. \n",
    "Professor Adams needs to determine which students who registered also attended, and then identify which of these students did not drop out.\n",
    "Help Professor Adams identify the students who registered, attended, and did not drop out of the workshops.<br><br>\n",
    "Input format :<br>\n",
    "-The first line of input consists of integers, representing the student IDs who registered for the workshops.<br>\n",
    "-The second line consists of integers, representing the student IDs who attended the workshops.<br>\n",
    "-The third line consists of integers, representing the student IDs who dropped out of the workshops.<br>\n",
    "Output format :<br>\n",
    "The first line of output displays the intersection of the first two sets, which shows the IDs of students who registered and attended.<br>\n",
    "The second line displays the result after removing student IDs that are in the third set (dropped out), showing the IDs of students who both attended and did not drop out.\n",
    "<br>\n",
    "Refer to the sample output for the formatting specifications.<br><br>\n",
    "Code constraints :<br>\n",
    "1 ≤ set_elements ≤ 20<br><br>\n",
    "Sample test cases :<br><br>\n",
    "Input 1 :<br>\n",
    "1 2 3<br>2 3 4<br> 3 4 5<br><br>\n",
    "Output 1 :<br>{2, 3}<br>{2}<br><br>\n",
    "Input 2 :<br><br>\n",
    "2 4<br>\n",
    "1 4 2<br>\n",
    "2 6<br><br>\n",
    "Output 2 :<br><br>\n",
    "{2, 4}<br>\n",
    "{4}<br>**"
   ]
  },
  {
   "cell_type": "code",
   "execution_count": 23,
   "id": "b9a771a8-5c99-4619-a477-6b0ec845f7d9",
   "metadata": {},
   "outputs": [
    {
     "name": "stdin",
     "output_type": "stream",
     "text": [
      " 1 2 4\n",
      " 1 3 4\n",
      " 2 4\n"
     ]
    },
    {
     "name": "stdout",
     "output_type": "stream",
     "text": [
      "{1, 4}\n",
      "{1}\n"
     ]
    }
   ],
   "source": [
    "registered = set(map(int, input().split()))\n",
    "attended = set(map(int, input().split()))\n",
    "dropped_out = set(map(int, input().split()))\n",
    "registered_and_attended = registered & attended\n",
    "final_students = registered_and_attended - dropped_out\n",
    "print(registered_and_attended)\n",
    "print(final_students)\n"
   ]
  },
  {
   "cell_type": "markdown",
   "id": "7bc46ad3-da91-4d0c-91df-927bba03f0d7",
   "metadata": {},
   "source": [
    "# Problem Statement\n",
    "**Gowshik is working on a task that involves taking two lists of integers as input, finding the element-wise sum of the corresponding elements, and then creating a tuple containing the sum values.\n",
    "<br>Write a program to help Gowshik with this task.<br>\n",
    "Given list:<br><br>\n",
    "[1, 2, 3, 4]<br>\n",
    "[3, 5, 2, 1]<br>\n",
    "An element-wise sum of the said tuples: (4, 7, 5, 5)<br><br>\n",
    "Input format :<br>\n",
    "-The first line of input consists of a single integer n, representing the length of the input lists.<br>\n",
    "-The second line of input consists of n integers separated by commas, representing the elements of the first list.<br>\n",
    "-The third line of input consists of n integers separated by commas, representing the elements of the second list.<br>\n",
    "<br>\n",
    "Output format :<br>\n",
    "The output is a single line containing a tuple of integers separated by commas, representing the element-wise sum of the corresponding elements from the two input lists.\n",
    "<br>\n",
    "Refer to the sample output for the formatting specifications.<br><br>\n",
    "Code constraints :<br>\n",
    "In this scenario, the given test cases will fall under the following constraints:<br>\n",
    "1 ≤ n ≤ 10<br>\n",
    "-100 ≤ elements of the list ≤ 100<br><br>\n",
    "Sample test cases :<br>\n",
    "Input 1 :<br><br>\n",
    "4<br>\n",
    "1, 2, 3, 4<br>\n",
    "3, 5, 2, 1<br>\n",
    "Output 1 :<br><br>\n",
    "(4, 7, 5, 5)<br>\n",
    "Input 2 :<br><br>\n",
    "3<br>\n",
    "10, -1, 3<br>\n",
    "4, 5, 6<br>\n",
    "Output 2 :<br><br>\n",
    "(14, 4, 9)**\n"
   ]
  },
  {
   "cell_type": "code",
   "execution_count": 25,
   "id": "22c3cdec-52e8-4db6-82a9-daa52bea85bb",
   "metadata": {},
   "outputs": [
    {
     "name": "stdin",
     "output_type": "stream",
     "text": [
      "LENGTH OF LLIST 6\n",
      " 8, 7, 9, 00, 88, 76\n",
      " 8,-8,8,6,7,5\n"
     ]
    },
    {
     "name": "stdout",
     "output_type": "stream",
     "text": [
      "(16, -1, 17, 6, 95, 81)\n"
     ]
    }
   ],
   "source": [
    "n=int(input(\"LENGTH OF LLIST\"))\n",
    "list1=list(map(int,input().split(',')))\n",
    "list2=list(map(int,input().split(',')))\n",
    "r=tuple(a+b for a,b in zip(list1,list2))\n",
    "print(r)"
   ]
  },
  {
   "cell_type": "code",
   "execution_count": 36,
   "id": "d10475ed-0f1f-491a-90d2-95bec9ec2947",
   "metadata": {},
   "outputs": [
    {
     "name": "stdin",
     "output_type": "stream",
     "text": [
      " 3\n",
      " 2,33,44\n",
      " -2,3,3\n"
     ]
    },
    {
     "name": "stdout",
     "output_type": "stream",
     "text": [
      "(0, 36, 47)\n"
     ]
    }
   ],
   "source": [
    "n = int(input())\n",
    "list1 = list(map(int, input().split(',')))\n",
    "list2 = list(map(int, input().split(',')))\n",
    "result = tuple(list1[i] + list2[i] for i in range(n))\n",
    "print(result)\n"
   ]
  },
  {
   "cell_type": "markdown",
   "id": "83403969-c417-4fbf-8472-3ed63d840f69",
   "metadata": {},
   "source": [
    "# Problem Statement\n",
    "**Sarah is a technical writer who is responsible for formatting two important documents. Both documents contain a certain placeholder character that needs to be replaced with another character before they can be finalized. To ensure consistency in formatting, Sarah wants you to help her write a program that processes both documents by replacing the placeholder character with the new one.<br>\n",
    "Sarah also prefers a neat and structured output, so she wants you to ensure that both modified documents are printed in a single line, separated by a space, using the format() function.<br><br>\n",
    "Input:<br><br>\n",
    "Hello<br>\n",
    "World<br>\n",
    "o<br>\n",
    "a<br><br>\n",
    "Output:<br>\n",
    "Hella Warld<br>\n",
    "Explanation:<br>\n",
    "Here the character 'o' is replaced with 'a' in the concatenated string.<br>\n",
    "<br>Input format :<br>\n",
    "The first line contains string1, the first document.<br>\n",
    "The second line contains string2, the second document.<br>\n",
    "The third line contains char1, the placeholder character that needs to be replaced.<br>\n",
    "The fourth line contains char2, the new character that will replace the placeholder.<br><br>\n",
    "Output format :<br>\n",
    "The output displays a single line containing the modified string1 and string2, separated by a space.<br>\n",
    "Refer to the sample output for the formatting specifications.<br><br>\n",
    "Code constraints :<br>\n",
    "The given test cases fall under the following constraints:<br>\n",
    "The strings may contain any printable characters.<br>\n",
    "char1 and char2 are always single characters.<br>\n",
    "The maximum length of each string is 100 characters.<br><br>\n",
    "Sample test cases :<br>\n",
    "Input 1 :<br><br>\n",
    "Hello<br>\n",
    "World<br>\n",
    "o<br>\n",
    "a<br><br>\n",
    "Output 1:<br><br>\n",
    "Hella Warld<br>\n",
    "Input 2 :<br><br>\n",
    "12345<br>\n",
    "45123<br>\n",
    "1<br>\n",
    "0<br><br>\n",
    "Output 2 :<br>\n",
    "02345 45023<br>\n",
    "Input 3 :<br><br>\n",
    "python programming<br>\n",
    "Practice<br>\n",
    "p<br>\n",
    "P<br>\n",
    "Output 3 :<br><br>\n",
    "Python Programming Practice**\n"
   ]
  },
  {
   "cell_type": "code",
   "execution_count": 43,
   "id": "09e8f31f-63e0-4488-bbe7-7a4deda6f222",
   "metadata": {},
   "outputs": [
    {
     "name": "stdin",
     "output_type": "stream",
     "text": [
      " python programming\n",
      " heyaaa! python\n",
      " o\n",
      " x\n"
     ]
    },
    {
     "name": "stdout",
     "output_type": "stream",
     "text": [
      "pythxn prxgramming heyaaa! pythxn\n"
     ]
    }
   ],
   "source": [
    "string1 = input().strip()\n",
    "string2 = input().strip()\n",
    "char1 = input().strip()\n",
    "char2 = input().strip()\n",
    "modified_string1 = string1.replace(char1, char2)\n",
    "modified_string2 = string2.replace(char1, char2)\n",
    "\n",
    "print(\"{} {}\".format(modified_string1, modified_string2))\n"
   ]
  },
  {
   "cell_type": "code",
   "execution_count": null,
   "id": "fe1f3efe-dfb9-4af9-bfb7-11796391679d",
   "metadata": {},
   "outputs": [],
   "source": []
  }
 ],
 "metadata": {
  "kernelspec": {
   "display_name": "Python 3 (ipykernel)",
   "language": "python",
   "name": "python3"
  },
  "language_info": {
   "codemirror_mode": {
    "name": "ipython",
    "version": 3
   },
   "file_extension": ".py",
   "mimetype": "text/x-python",
   "name": "python",
   "nbconvert_exporter": "python",
   "pygments_lexer": "ipython3",
   "version": "3.12.7"
  }
 },
 "nbformat": 4,
 "nbformat_minor": 5
}
