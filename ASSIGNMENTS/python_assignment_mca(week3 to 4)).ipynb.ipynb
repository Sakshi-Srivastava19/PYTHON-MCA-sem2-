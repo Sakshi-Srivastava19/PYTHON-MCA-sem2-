{
 "cells": [
  {
   "cell_type": "markdown",
   "id": "b692e0d6-73c8-41ad-918e-01e10d3dd2f6",
   "metadata": {},
   "source": [
    "# Single File Programming Question\n",
    "**Problem Statement** <br>\n",
    "Emerson is analyzing two sets of survey data, each containing different numbers of respondents. He wants to compare these sets by filtering out only the even numbers from the first set and only the odd numbers from the second set. Emerson then needs to find the symmetric difference between these filtered sets and calculate its sum. He will display the results sorted in ascending order.\n",
    "Help Emerson by writing a program using sets.<br>\n",
    "Note:<br>Use the filter() function to filter the even and odd numbers from the respective sets.\n",
    "<br><br>\n",
    "Input format :\n",
    "* The first line of input consists of a list of integers separated by spaces, representing the elements of the first set.\n",
    "* The second line of input consists of a list of integers separated by spaces, representing the elements of the second set.\n",
    "<br><br>\n",
    "Output format :\n",
    "* The first line of output displays the sorted elements of the filtered first set.\n",
    "* The second line of output displays the sorted elements of the filtered second set.\n",
    "* The third line of output displays the sorted elements of the symmetric difference between the filtered sets.\n",
    "* The fourth line of output displays the sum of the symmetric difference.<br>Refer to the sample output for the formatting specifications.\n",
    "<br><br>\n",
    "Code constraints :<br>\n",
    " 1 ≤ set_elements ≤ 50\n",
    "<br><br>\n",
    "Sample test cases :\n",
    "* Input 1 :\n",
    "<code>\n",
    "1 2 3 4\n",
    "5 6 7 8</code><br>\n",
    "* Output 1 :\n",
    "<code>[2, 4]\n",
    "[5, 7]\n",
    "[2, 4, 5, 7]\n",
    "18\n",
    "</code><br>\n",
    "Input 2 :<br>\n",
    "<code>10 12 14\n",
    "21 23 25</code><br>\n",
    "Output 2 :\n",
    "<code>[10, 12, 14]\n",
    "[21, 23, 25]\n",
    "[10, 12, 14, 21, 23, 25]\n",
    "105</code>"
   ]
  },
  {
   "cell_type": "code",
   "execution_count": null,
   "id": "d6ae7328-874a-42c4-8c5b-cca68c6b1be2",
   "metadata": {},
   "outputs": [],
   "source": [
    "set1=list(map(int,input().split()))\n",
    "set2=list(map(int,input().split()))\n",
    "f_set1=list(filter(lambda x:x%2==0,set1))\n",
    "f_set2=list(filter(lambda x:x%2!=0,set2))\n",
    "symmetric_diff=sorted(list(set(f_set1)^set(f_set2)))\n",
    "sum_sym_diff=sum(symmetric_diff)\n",
    "print(sorted(f_set1))\n",
    "print(sorted(f_set2))\n",
    "print(symmetric_diff)\n",
    "print(sum_sym_diff)"
   ]
  },
  {
   "cell_type": "markdown",
   "id": "bd9015b3-8c7a-4737-b932-9c765aa29bc2",
   "metadata": {},
   "source": [
    "# Single File Programming Question\n",
    "**Problem Statement**<br>\n",
    "Sara is developing a text-processing tool that checks if a given string starts with a specific character or substring. She needs to implement a function that accepts a string and a character (or substring), and returns True if the string starts with the provided character/substring, or False otherwise. \n",
    "<br>Write a program that uses a lambda function to help Sara perform this check.<br><br>\n",
    "Input format :<br>\n",
    "* The first line contains a string `str` representing the main string to be checked.\n",
    "* The second line contains a string `n`, which is the character or substring to check if the main string starts with it.<br><br>\n",
    "Output format :<br>\n",
    "* The first line of output prints \"True\" if the string starts with the given character/substring, otherwise prints \"False\".<br>\n",
    "Refer to the sample for the formatting specifications.\n",
    "<br><br>\n",
    "Code constraints :<code>1 ≤ str ≤ 50</code>\n",
    "<br><br>\n",
    "Sample test cases :\n",
    "* Input 1 :<br>\n",
    "Examly<br>\n",
    "e<br>\n",
    "*Output 1 :<br>\n",
    "False<br>\n",
    "* Input 2 :<br>\n",
    "placement season<br>\n",
    "p<br>\n",
    "* Output 2 :<br>\n",
    "True<br>\n",
    "Code Size : 1024 kb<br>\n"
   ]
  },
  {
   "cell_type": "code",
   "execution_count": 29,
   "id": "20aca7a9-eab6-421f-a9ab-c4d61c72c457",
   "metadata": {},
   "outputs": [
    {
     "name": "stdin",
     "output_type": "stream",
     "text": [
      " u hhi \n",
      " hi\n"
     ]
    },
    {
     "name": "stdout",
     "output_type": "stream",
     "text": [
      "False\n"
     ]
    }
   ],
   "source": [
    "def main():\n",
    "    str1=input().strip()\n",
    "    n=input().strip()\n",
    "    chck=lambda s,substr:s.startswith(substr)\n",
    "    print(chck(str1,n))\n",
    "main()\n"
   ]
  },
  {
   "cell_type": "code",
   "execution_count": null,
   "id": "90a21dc7-ae7e-4f87-94e0-4860a349fb94",
   "metadata": {},
   "outputs": [],
   "source": [
    "without using builtin function"
   ]
  },
  {
   "cell_type": "code",
   "execution_count": 23,
   "id": "cd5392d8-0d59-426d-a36e-bdf5f4a8ef27",
   "metadata": {},
   "outputs": [
    {
     "name": "stdin",
     "output_type": "stream",
     "text": [
      " uh ijj h\n",
      " h\n"
     ]
    },
    {
     "name": "stdout",
     "output_type": "stream",
     "text": [
      "False\n"
     ]
    }
   ],
   "source": [
    "def main():\n",
    "    str1 = input().strip()\n",
    "    substr = input().strip()         \n",
    "    check = lambda strr, sub: strr[:len(sub)] == sub\n",
    "    print(check(str1, substr))\n",
    "main()\n"
   ]
  },
  {
   "cell_type": "code",
   "execution_count": 37,
   "id": "37081632-b10f-46f0-9753-73fb15402916",
   "metadata": {},
   "outputs": [
    {
     "name": "stdin",
     "output_type": "stream",
     "text": [
      " k k oo\n",
      " o\n"
     ]
    },
    {
     "name": "stdout",
     "output_type": "stream",
     "text": [
      "False\n"
     ]
    }
   ],
   "source": [
    "def main():\n",
    "    # Input: Read the main string and the substring to check\n",
    "    str_main = input().strip()  # Main string to be checked\n",
    "    n = input().strip()         # Substring or character to check if the main string starts with\n",
    "\n",
    "    # Lambda function to check if the main string starts with the given substring (case-insensitive)\n",
    "    for i in range(len(str_main)-1):\n",
    "     check_start = lambda s, sub: s.lower()[:len(sub)] == sub.lower()\n",
    "    \n",
    "    # Output the result (True or False)\n",
    "    print(check_start(str_main, n))\n",
    "\n",
    "# Call the main function\n",
    "main()\n"
   ]
  },
  {
   "cell_type": "markdown",
   "id": "96733227-aade-4c95-815e-29ceffc8136b",
   "metadata": {},
   "source": [
    "# Single File Programming Question\n",
    "**Problem Statement**<br>Mia, an ardent lover of words, has an enchanting tuple filled with a myriad of magical words. She embarks on a quest to discover the word with the highest number of vowels, hoping to uncover the gem among her linguistic treasures. However, Mia, being the adventurous spirit she is, insists on a challenge—no built-in functions allowed! Write a program to assist Mia in finding the word with the most vowels in her tuple, using only fundamental operations.\n",
    "<br>Note:<br>\n",
    "-- Use a lambda function to simplify the task of counting vowels in each word within the tuple.\n",
    "* Input format :<br>\n",
    "The first line contains an integer 'n', denoting the number of words in the tuple.<br>\n",
    "The next 'n' lines contain the words, where each word consists of only lowercase alphabetical characters.<br>\n",
    "<br>\n",
    "* Output format :<br>\n",
    "The output displays a string representing the word with the highest number of vowels.<br>\n",
    "Refer to the sample output for format specifications.\n",
    "<br><br>\n",
    "Code constraints :<code>1 ≤ n ≤ 100</code><br>\n",
    "The length of each word is at most 50 characters.\n",
    "<br><br>\n",
    "Sample test cases :<br><br>\n",
    "* Input 1 :\n",
    "3<br>\n",
    "hello<br>\n",
    "world<br>\n",
    "python<br>\n",
    "* Output 1 :<br>\n",
    "hello<br>\n",
    "* Input 2 :<br>\n",
    "5<br>\n",
    "programming<br>\n",
    "challenge<br>\n",
    "python<br>\n",
    "code<br>\n",
    "constraints<br>\n",
    "* Output 2 :\n"
   ]
  },
  {
   "cell_type": "code",
   "execution_count": null,
   "id": "8372f530-98f8-499c-8426-b45b10342557",
   "metadata": {},
   "outputs": [],
   "source": [
    "n=int(input())\n",
    "word=[input().strip() for _ in range (n)]\n",
    "c_vowel=lambda x:sum(1 for char in x if char in \"aeiou\")\n",
    "highest_vow=max(word,key=lambda x:c_vowel(x))\n",
    "print(highest_vow)"
   ]
  },
  {
   "cell_type": "markdown",
   "id": "78469426-1ef9-4198-900f-14e769d8c16b",
   "metadata": {},
   "source": [
    "# Single File Programming Question\n",
    "**Problem Statement**<br>John wants to create a program using a class called Weather to compare historical and current weather data. Predict if it's getting warmer, colder, or staying the same based on temperature comparisons and forecast changes in weather conditions.  Implement the code by creating objects of the Weather class and using its methods to make predictions.\n",
    "<ul> If current temperature > historical temperature, output: \"Warmer.\"\n",
    "If current temperature < historical temperature, output: \"Colder.\"\n",
    "If current temperature = historical temperature, output: \"Same temperature.\"\n",
    "If current weather conditions = historical conditions, output: \"Same conditions: \" followed by the weather conditions.\n",
    "If current weather conditions differ from historical conditions, output: \"Conditions changing to: \" followed by the current weather condition.</ul><br><br>\n",
    "* Input format <br>\n",
    "The first line of input contains a float value, representing the historical temperature.<br>\n",
    "The second line contains a string, representing the historical weather conditions.<br>\n",
    "The third line contains a float value, representing the current temperature.<br>\n",
    "The fourth line contains a string, representing the current weather conditions.<br>\n",
    "<br>\n",
    "* Output format<br>\n",
    "The first line displays one of the following:<br>\n",
    "<br>\n",
    "If current temperature > historical temperature, output: \"Warmer\".<br>\n",
    "If current temperature < historical temperature, output: \"Colder\".<br>\n",
    "If the current temperature = historical temperature, output: \"Same temperature\".<br>\n",
    "<br>\n",
    "The second line displays one of the following:<br>\n",
    "\n",
    "If current weather conditions = historical conditions, output: \"Same conditions: \" followed by the weather conditions<br>\n",
    "If current weather conditions differ from historical conditions, output: \"Conditions changing to: \" followed by the current weather condition.<br>\n",
    "Sample test cases :<br>\n",
    "* Input 1 :<br>\n",
    "20.5<br>\n",
    "Sunny<br>\n",
    "25.0<br>\n",
    "Sunny<br><br>\n",
    "* Output 1 :<br>\n",
    "Warmer<br>\n",
    "Same conditions: Sunny<br><br>\n",
    "* Input 2 :<br>\n",
    "15.0<br>\n",
    "Rainy<br>\n",
    "10.0<br>\n",
    "Sunny<br><br>\n",
    "* Output 2 :<br>\n",
    "Colder<br>\n",
    "Conditions changing to: Sunny<br>\n",
    "* Input 3 :<br><br>\n",
    "12.5<br>\n",
    "Snowy<br>\n",
    "12.5<br>\n",
    "Snowy<br><br>\n",
    "* Output 3 :<br>\n",
    "Same temperature<br>\n",
    "Same conditions: Snowy<br>\n",
    "Note :\n",
    "The program will be evaluated only after the “Submit Code” is clicked.\n",
    "Extra spaces and new line characters in the program output will result in the failure of the test case."
   ]
  },
  {
   "cell_type": "code",
   "execution_count": 1,
   "id": "2dfbb38b-c1e6-4f58-9f28-a929b4315c59",
   "metadata": {},
   "outputs": [
    {
     "name": "stdin",
     "output_type": "stream",
     "text": [
      " 90\n",
      " sa\n",
      " 89\n",
      " f\n"
     ]
    },
    {
     "name": "stdout",
     "output_type": "stream",
     "text": [
      "Colder\n",
      "Conditions changing to:f\n"
     ]
    }
   ],
   "source": [
    "# You are using Python\n",
    "class Weather:\n",
    "    def __init__(self,historical_temp,historical_condition,current_temp,current_condition):\n",
    "        self.historical_temp=historical_temp \n",
    "        self.historical_condition=historical_condition\n",
    "        self.current_temp=current_temp\n",
    "        self.current_condition=current_condition\n",
    "    def compare_temp(self):\n",
    "        if (self.current_temp>self.historical_temp):\n",
    "            return \"Warmer\"\n",
    "        elif (self.current_temp<self.historical_temp):\n",
    "            return \"Colder\"\n",
    "        else:\n",
    "            return \"Same Temperature\"\n",
    "    def compare_condition(self):\n",
    "        if self.current_condition==self.historical_condition:\n",
    "            return f\"Same conditions:{self.historical_condition}\"\n",
    "        else:\n",
    "            return f\"Conditions changing to:{self.current_condition}\"\n",
    "historical_temp=float(input().strip())\n",
    "historical_condition=input().strip()\n",
    "current_temp=float(input().strip())\n",
    "current_condition=input().strip()\n",
    "weather=Weather(historical_temp,historical_condition,current_temp,current_condition)\n",
    "print(weather.compare_temp())\n",
    "print(weather.compare_condition())\n",
    "    "
   ]
  },
  {
   "cell_type": "code",
   "execution_count": null,
   "id": "a4a1732a-ee42-48bd-bc47-520e14cecb48",
   "metadata": {},
   "outputs": [],
   "source": []
  }
 ],
 "metadata": {
  "kernelspec": {
   "display_name": "Python 3 (ipykernel)",
   "language": "python",
   "name": "python3"
  },
  "language_info": {
   "codemirror_mode": {
    "name": "ipython",
    "version": 3
   },
   "file_extension": ".py",
   "mimetype": "text/x-python",
   "name": "python",
   "nbconvert_exporter": "python",
   "pygments_lexer": "ipython3",
   "version": "3.12.7"
  }
 },
 "nbformat": 4,
 "nbformat_minor": 5
}
